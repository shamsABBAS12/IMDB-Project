{
 "cells": [
  {
   "cell_type": "code",
   "execution_count": null,
   "id": "df15c548-1048-4a00-8589-51deb41ce345",
   "metadata": {},
   "outputs": [],
   "source": [
    "import requests\n",
    "from bs4 import BeautifulSoup\n",
    "import pandas as pd\n",
    "import numpy as np\n",
    "import seaborn as sns\n",
    "from matplotlib import pyplot as plt\n",
    "import re"
   ]
  },
  {
   "cell_type": "code",
   "execution_count": null,
   "id": "fbf6ad4b-0aed-4e14-a760-49e347afaa6c",
   "metadata": {},
   "outputs": [],
   "source": [
    "from selenium import webdriver\n",
    "driver = webdriver.Edge()"
   ]
  },
  {
   "cell_type": "markdown",
   "id": "857df46f-97ef-4640-95de-53af39aa92d1",
   "metadata": {},
   "source": [
    "### WEB SCRAPPING \n",
    "### Using IMDb url."
   ]
  },
  {
   "cell_type": "code",
   "execution_count": null,
   "id": "09fbaa05-bc23-444d-a5e9-aa3f0f5be2d5",
   "metadata": {},
   "outputs": [],
   "source": [
    "driver.get('https://www.imdb.com/list/ls050782187/')"
   ]
  },
  {
   "cell_type": "code",
   "execution_count": null,
   "id": "c727cc34-ea8b-44a9-972c-a8e90c0a1876",
   "metadata": {},
   "outputs": [],
   "source": [
    "driver.execute_script('return document.body.scrollHeight')"
   ]
  },
  {
   "cell_type": "code",
   "execution_count": null,
   "id": "5829032d-2dc9-4a20-8180-783b181a4cb3",
   "metadata": {},
   "outputs": [],
   "source": [
    "driver"
   ]
  },
  {
   "cell_type": "code",
   "execution_count": null,
   "id": "8fae2a32-e72d-4194-980f-c18ee0c22af0",
   "metadata": {},
   "outputs": [],
   "source": [
    "old_height = driver.execute_script('return document.body.scrollHeight')\n",
    "import time\n",
    "while True:\n",
    "\n",
    "    driver.execute_script('window.scrollTo(0,document.body.scrollHeight)')\n",
    "    time.sleep(4)\n",
    "    new_height = driver.execute_script('return document.body.scrollHeight')\n",
    "\n",
    "    if new_height == old_height:\n",
    "        break\n",
    "    old_height = new_height"
   ]
  },
  {
   "cell_type": "code",
   "execution_count": null,
   "id": "3c416f18-15e8-4b8d-bae8-24680a4b5947",
   "metadata": {},
   "outputs": [],
   "source": [
    "html = driver.page_source"
   ]
  },
  {
   "cell_type": "code",
   "execution_count": null,
   "id": "64c1458c-4095-4231-8ab4-bd39bdd908b4",
   "metadata": {
    "scrolled": true
   },
   "outputs": [],
   "source": [
    "html"
   ]
  },
  {
   "cell_type": "code",
   "execution_count": null,
   "id": "95417429-7d03-4f3e-9c29-8289809095ea",
   "metadata": {},
   "outputs": [],
   "source": [
    "soup = BeautifulSoup(html)\n",
    "soup"
   ]
  },
  {
   "cell_type": "markdown",
   "id": "89755fbd-b26d-4365-83db-3d089f1369be",
   "metadata": {},
   "source": [
    "### Html tags , for loops.\n"
   ]
  },
  {
   "cell_type": "code",
   "execution_count": null,
   "id": "ef7a633a-e9c2-4836-bfa0-dc0f96af8258",
   "metadata": {},
   "outputs": [],
   "source": [
    "Movie = [Movie.get_text(strip = True) for Movie in soup.find_all('h3',class_ = 'ipc-title__text')]\n",
    "# Movie\n",
    "\n",
    "Movie = Movie[:-3]"
   ]
  },
  {
   "cell_type": "code",
   "execution_count": null,
   "id": "62b05146-77a6-4631-8bbd-0b551c99b46d",
   "metadata": {},
   "outputs": [],
   "source": [
    "Imdb = [i.get_text(strip = True) for i in soup('span', class_='ipc-rating-star--rating')]\n",
    "# Imdb\n",
    "\n",
    "voting = [v.get_text(strip = True) for v in soup('span',class_= 'ipc-rating-star--voteCount')]\n",
    "# voting"
   ]
  },
  {
   "cell_type": "code",
   "execution_count": null,
   "id": "34ac15c6-f44f-4d1d-8e8a-20d34f19a2c8",
   "metadata": {},
   "outputs": [],
   "source": [
    "year = []\n",
    "genre = []\n",
    "duration = []\n",
    "meta = []\n",
    "director =[]\n",
    "\n",
    "\n",
    "for i in soup.find_all('div', class_='sc-5bc66c50-5 hVarDB dli-title-metadata'):\n",
    "    regex = re.findall('\\d{4}', i.text) \n",
    "    if len(regex) > 0: \n",
    "        year.append(regex[0])\n",
    "\n",
    "\n",
    "for i in soup.find_all('div',class_='sc-5bc66c50-5 hVarDB dli-title-metadata'):\n",
    "    #print(i.text)\n",
    "    regex = re.findall('\\d+h\\s\\d+m(.*)', i.text)\n",
    "    if len(regex)>0:\n",
    "        genre.append(regex[0])\n",
    "    else:\n",
    "        genre.append(np.nan)\n",
    "\n",
    "\n",
    "for i in soup.find_all('div',class_='sc-5bc66c50-5 hVarDB dli-title-metadata'):\n",
    "    #print(i.text)\n",
    "    regex = re.findall(r'\\d{4}(\\d+h\\s\\d+m)', i.text)\n",
    "    if len(regex)>0:\n",
    "        duration.append(regex[0])\n",
    "    else:\n",
    "        duration.append(np.nan)\n",
    "\n",
    "\n",
    "for i in soup.find_all('span',class_='sc-5bc66c50-1 dzqfDt'):\n",
    "    #print(i.text)\n",
    "    regex = re.findall(r'Rate(\\d+)M', i.text)\n",
    "    #print(regex)\n",
    "    if len(regex)>0:\n",
    "        meta.append(regex[0])\n",
    "    else:\n",
    "        meta.append(np.nan)\n",
    "\n",
    "\n",
    "for i in soup.find_all(\"div\",class_=\"sc-54004b59-1 eeStly\"):\n",
    "    a = i.find(\"a\",class_='ipc-link ipc-link--base dli-director-item')\n",
    "    if a :\n",
    "        director.append(a.text)"
   ]
  },
  {
   "cell_type": "markdown",
   "id": "c55bc3bb-c0f8-42e8-9fce-b5a27efc43f3",
   "metadata": {},
   "source": [
    "### Checking for length"
   ]
  },
  {
   "cell_type": "code",
   "execution_count": null,
   "id": "ea813fb7-6e50-4cb9-81cf-5de66b07edb9",
   "metadata": {},
   "outputs": [],
   "source": [
    "print(len(Imdb))\n",
    "print(len(voting))\n",
    "print(len(year))\n",
    "print(len(genre))\n",
    "print(len(duration))\n",
    "print(len(meta))\n",
    "print(len(director))\n",
    "print(len(Movie))"
   ]
  },
  {
   "cell_type": "code",
   "execution_count": null,
   "id": "47cd7d49-947e-46db-8d6b-d502cc43fbbd",
   "metadata": {},
   "outputs": [],
   "source": [
    "driver.close()"
   ]
  },
  {
   "cell_type": "markdown",
   "id": "1de5a7cc-5fe7-4bcf-8fd1-dbeb23d4eb07",
   "metadata": {},
   "source": [
    "## Dataset Conversion"
   ]
  },
  {
   "cell_type": "code",
   "execution_count": null,
   "id": "53685266-8fc6-48bf-9536-04bbd95831b5",
   "metadata": {},
   "outputs": [],
   "source": [
    "data = pd.DataFrame({\n",
    "    'Movie_Title' : Movie,'Year' : year,'Duration' : duration,\n",
    "    'Imdb_Rating' : Imdb,'Certificate' :genre,\n",
    "    'Voting' : voting,'Metascore_Rating' : meta,'Directors' : director})"
   ]
  },
  {
   "cell_type": "code",
   "execution_count": null,
   "id": "7408a5e0-e7d3-4cad-9f54-ba057b4d0b6d",
   "metadata": {},
   "outputs": [],
   "source": [
    "data"
   ]
  },
  {
   "cell_type": "markdown",
   "id": "a4a6d89b-0fd0-4dc4-a9b3-c10443d6b8eb",
   "metadata": {},
   "source": [
    "### DataFrame To CSV file"
   ]
  },
  {
   "cell_type": "code",
   "execution_count": null,
   "id": "144e75d8-6a2c-4a20-9b93-6391d0862870",
   "metadata": {},
   "outputs": [],
   "source": [
    "data.to_csv('IMDB-H.csv',index = False)"
   ]
  },
  {
   "cell_type": "markdown",
   "id": "a5a5a857-5207-4b08-ac9c-7070fa3b9d7d",
   "metadata": {},
   "source": []
  },
  {
   "cell_type": "code",
   "execution_count": null,
   "id": "2b052d35-682a-4919-9e1b-be4ee3ed6ebc",
   "metadata": {},
   "outputs": [],
   "source": []
  }
 ],
 "metadata": {
  "kernelspec": {
   "display_name": "base",
   "language": "python",
   "name": "python3"
  },
  "language_info": {
   "codemirror_mode": {
    "name": "ipython",
    "version": 3
   },
   "file_extension": ".py",
   "mimetype": "text/x-python",
   "name": "python",
   "nbconvert_exporter": "python",
   "pygments_lexer": "ipython3",
   "version": "3.11.7"
  }
 },
 "nbformat": 4,
 "nbformat_minor": 5
}
